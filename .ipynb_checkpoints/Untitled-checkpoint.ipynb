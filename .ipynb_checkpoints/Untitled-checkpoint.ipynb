{
 "cells": [
  {
   "cell_type": "code",
   "execution_count": 15,
   "metadata": {},
   "outputs": [],
   "source": [
    "import random\n",
    "\n",
    "colorNum=[0,1,2,3]\n",
    "colorName=[\"red\",\"green\",\"yellow\",\"blue\"]\n",
    "colorDict = {0: \"red\", 1: \"green\", 2: \"yellow\", 3: \"blue\"}\n",
    "colorDictReverse = {\"red\":0, \"green\":1, \"yellow\":2, \"blue\":3}\n",
    "\n",
    "class button:\n",
    "    loc = -1\n",
    "    id=0\n",
    "    MAXMOVES = 56\n",
    "    inSafeZone = True\n",
    "    \n",
    "    def __init__ (self, color):\n",
    "        button.id +=1\n",
    "        self.color = color\n",
    "        self.loc = -1\n",
    "        self.id = button.id\n",
    "    def reset(self):\n",
    "        self.loc=-1\n",
    "    def getHighwayLocation(self):\n",
    "        pass\n",
    "        \n",
    "    def move(self, numMoves):\n",
    "        # If the gatti is at its start position\n",
    "        if self.loc < 0:\n",
    "            # Gatti needs a 6 to move out from start position\n",
    "            if numMoves == 6:\n",
    "                print(\"Its a six!\")\n",
    "                self.loc+=1\n",
    "            # Do nothing if its not a six\n",
    "            else:\n",
    "                print(\"Its not a six! Still Stuck!\")\n",
    "                #self.loc+=numMoves\n",
    "        # if it is not a six\n",
    "        elif self.loc + numMoves <= button.MAXMOVES:\n",
    "            self.loc = self.loc + numMoves\n",
    "        elif self.loc == button.MAXMOVES:\n",
    "            #print(\"You're finally home again!\")\n",
    "            print(\"Choose another button! This button is home already!\")\n",
    "            pass\n",
    "        else:\n",
    "            print(\"here\")\n",
    "            #pass\n",
    "\n",
    "        if self.loc == button.MAXMOVES:\n",
    "            print(\"You're finally home again already!\")\n",
    "        #inSafeZone=self.isInSafeZone()\n",
    "\n",
    "\n",
    "class dice:\n",
    "    def rollDice():\n",
    "        return random.randint(1,6)\n",
    "\n",
    "def prepare(list1):\n",
    "    return({i:list1[i]  for i in range(0,57)})\n",
    "\n",
    "class highway:\n",
    "    locations={}\n",
    "    SAFEZONES = [-1, 0, 8, 13, 21, 26, 34, 39, 47]\n",
    "    STARTZONEDICT= {0: 0, 1: 13, 2: 26, 3: 39}\n",
    "    HOMEZONES = [51, 52, 53, 54, 55, 56]\n",
    "    REDZONE   = range(52,58)\n",
    "    GREENZONE = range(58,64)\n",
    "    YELLOWZONE= range(64,70)\n",
    "    BLUEZONE  = range(70,76)\n",
    "    \n",
    "    #REDLOCATIONS    = list(range(0,51))+list(REDZONE)\n",
    "    #GREENLOCATIONS  = list(range(13,52))+list(range(0,12))+list(GREENZONE)\n",
    "    #YELLOWLOCATIONS = list(range(26,52))+list(range(0,25))+list(YELLOWZONE)\n",
    "    #BLUELOCATIONS   = list(range(39,52))+list(range(0,38))+list(BLUEZONE)\n",
    "    \n",
    "    #@classmethod\n",
    "    #def prepare():\n",
    "    #    return({i:list1[i]  for i in range(0,57)})\n",
    "    \n",
    "    REDLOCATIONS    = prepare(list(range(0,51))+list(REDZONE))\n",
    "    GREENLOCATIONS  = prepare(list(range(13,52))+list(range(0,12))+list(GREENZONE))\n",
    "    YELLOWLOCATIONS = prepare(list(range(26,52))+list(range(0,25))+list(YELLOWZONE)) \n",
    "    BLUELOCATIONS   = prepare(list(range(39,52))+list(range(0,38))+list(BLUEZONE)) \n",
    "    \n",
    "    ALLLOCATIONS = {0:REDLOCATIONS,1:GREENLOCATIONS,2:YELLOWLOCATIONS,3:BLUELOCATIONS}\n",
    "\n",
    "    \n",
    "    def __init__(self):\n",
    "        self.buildHighwayLocationRules()\n",
    "    \n",
    "    def moveButton(self, button):\n",
    "        button.move(dice.rollDice())\n",
    "    \n",
    "    def buildHighwayLocationRules(self):\n",
    "        locations=dict()\n",
    "        MAXLOCATIONS=75\n",
    "        safezones=[]\n",
    "        #for i in range(MAXLOCATIONS+1):\n",
    "        for i in range(75+1):\n",
    "            safe=False\n",
    "            if(i in highway.SAFEZONES or i>51):\n",
    "                safe=True\n",
    "            safezones.append(safe)\n",
    "\n",
    "        colorsAllowedList=[]\n",
    "        for i in range(75+1):\n",
    "            #colorsAllowed=[0,1,2,3]\n",
    "            colorsAllowed=[]\n",
    "            if(i in highway.REDZONE):\n",
    "                colorsAllowed=[colorDictReverse[\"red\"]]\n",
    "            if(i in highway.GREENZONE):\n",
    "                colorsAllowed=[colorDictReverse[\"green\"]]\n",
    "            if(i in highway.YELLOWZONE):\n",
    "                colorsAllowed=[colorDictReverse[\"yellow\"]]\n",
    "            if(i in highway.BLUEZONE):\n",
    "                colorsAllowed=[colorDictReverse[\"blue\"]]\n",
    "            colorsAllowedList.append(colorsAllowed)\n",
    "\n",
    "        for i in range(MAXLOCATIONS+1):\n",
    "            self.locations.update({i:{\"colorsallowed\":colorsAllowedList[i],\"button\":[], \"safe\":safezones[i]}})\n",
    "\n",
    "        #self.locations=[{i:{\"colorsallowed\":colorsAllowedList[i],\"button\":[], \"safe\":safezones[i]}} for i in range(MAXLOCATIONS+1)]\n",
    "\n",
    "    # use this to put a button on the highway\n",
    "    def initButtonOnHighway(self, buttonObj):\n",
    "        print(self.locations[highway.STARTZONEDICT[buttonObj.color]][\"button\"])\n",
    "        # add Button to first cell for the color\n",
    "        self.locations[highway.STARTZONEDICT[buttonObj.color]][\"button\"].append(buttonObj)\n",
    "        print(self.locations[highway.STARTZONEDICT[buttonObj.color]][\"button\"])\n",
    "\n",
    "    def findButtonOnHighway(self, buttonObj):\n",
    "        print(buttonObj)\n",
    "        loc=None\n",
    "        for location in self.locations.keys():\n",
    "            for button in self.locations[location][\"button\"]:\n",
    "                if(button==buttonObj):\n",
    "                    loc=location\n",
    "                    break\n",
    "        return(loc)\n",
    "    \n",
    "    \n",
    "\n",
    "    def moveButtonOnHighway(self, buttonObj):\n",
    "        #print(self.locations[highway.STARTZONEDICT[buttonObj.color]][\"button\"])\n",
    "        ##\n",
    "        self.locations[highway.STARTZONEDICT[buttonObj.color]][\"button\"].append(buttonObj)\n",
    "        numMoves=dice.rollDice()\n",
    "        buttonLoc=self.findButtonOnHighway(buttonObj)\n",
    "        if(buttonLoc is not None):\n",
    "            print(self.locations[buttonLoc])\n",
    "        loc=buttonObj.loc\n",
    "        buttonObj.move(numMoves)\n",
    "        # If button hasn't moved or button is still at home\n",
    "        if(not(loc==buttonObj.loc or buttonObj.loc<0)):\n",
    "            print(ALLLOCATIONS[buttonObj.color][buttonObj.loc])\n",
    "            \n",
    "    def moveButton(self,buttonObj):\n",
    "        numMoves=dice.rollDice()\n",
    "        buttonOldLoc=-1\n",
    "        if(buttonObj.loc>=0):\n",
    "            buttonOldLoc=ALLLOCATIONS[buttonObj.color][buttonObj.loc]\n",
    "\n",
    "        buttonObj.move(numMoves)\n",
    "        \n",
    "        if(buttonObj.loc>=0):\n",
    "            #if button just got a 6 and it is at home, remove it and put it on the highway\n",
    "            if(buttonOldLoc==-1):\n",
    "                pass\n",
    "            buttonNewLoc=ALLLOCATIONS[buttonObj.color][buttonObj.loc]\n",
    "            self.locations[buttonOldLoc].append(buttonObj)\n",
    "            \n",
    "        \n",
    "            \n",
    "    def getElibibleButtonsToMove(self,color):\n",
    "        pass\n",
    "        \n",
    "        #print(self.locations[highway.STARTZONEDICT[buttonObj.color]][\"button\"])\n",
    "\n",
    "class home:\n",
    "    def __init__(self,color):\n",
    "        self.buttonsDict=list()\n",
    "        #create 4 buttons\n",
    "        self.buttonsDict.append(button(color))\n",
    "        self.buttonsDict.append(button(color))\n",
    "        self.buttonsDict.append(button(color))\n",
    "        self.buttonsDict.append(button(color))\n",
    "    \n",
    "    def pop(self):\n",
    "        return(self.buttonsDict.pop())\n",
    "    \n",
    "    def pop(self,buttonObj):\n",
    "        return(self.buttonsDict.remove(buttonObj))\n",
    "    \n",
    "    def insert(self, buttonObj):\n",
    "        if(len(self.buttonsDict)<4):\n",
    "            self.buttonsDict.append(buttonObj)\n",
    "        else:\n",
    "            print(\"buttonDict already full\")\n",
    "\n",
    "class world:\n",
    "    def __init__(self,numPlayers=4):\n",
    "        ##################\n",
    "        self.allHomess=dict()\n",
    "        self.numPlayers = numPlayers\n",
    "        ################\n",
    "\n",
    "        #Initialize player colors\n",
    "        self.playerColors = self.initPlayers(numPlayers)\n",
    "        \n",
    "        # Who will start?\n",
    "        self.turn=self.playerColors[0]\n",
    "        \n",
    "        print(self.playerColors)\n",
    "        \n",
    "        #Sort the players clockwise \n",
    "        self.playerColors.sort()\n",
    "        print(self.playerColors)\n",
    "\n",
    "        # Create homes for numPlayers        \n",
    "        self.createPlayers()\n",
    "        \n",
    "        # Create Highway\n",
    "        self.highway=highway()\n",
    "\n",
    "        #self.turn = self.getInitTurn()\n",
    "\n",
    "        print(self.turn)\n",
    "        ################\n",
    "\n",
    "    def initPlayers(self,numPlayers):\n",
    "        return(random.sample(colorNum, numPlayers))\n",
    "    \n",
    "    def createPlayers(self):\n",
    "        for playerColor in self.playerColors:\n",
    "            print(playerColor)\n",
    "            # Add all homes to a dict for retrieval next\n",
    "            self.allHomess.update({playerColor:home(playerColor)})\n",
    "\n",
    "    def getNextPlayerColor(self):\n",
    "        currentPlayerIndex=self.playerColors.index(self.turn)\n",
    "        nextPlayerIndex = (currentPlayerIndex+1)%len(self.playerColors)\n",
    "        colorToPlayNext=self.playerColors[nextPlayerIndex]\n",
    "        return(colorToPlayNext)\n",
    "    \n",
    "    def initHighway(self):\n",
    "        self.highway=highway()\n",
    "            \n",
    "    def moveButton(self,buttonObj):\n",
    "        numMoves=dice.rollDice()\n",
    "        buttonOldLoc=-1\n",
    "        if(buttonObj.loc>=0):\n",
    "            buttonOldLoc=self.highway.ALLLOCATIONS[buttonObj.color][buttonObj.loc]\n",
    "\n",
    "        buttonObj.move(numMoves)\n",
    "        \n",
    "        if(buttonObj.loc>=0):\n",
    "            #if button just got a 6 and it is at home, remove it from home and put it on the highway\n",
    "            if(buttonOldLoc==-1):\n",
    "                self.allHomess[buttonObj.color].remove(buttonObj)               \n",
    "            buttonNewLoc=self.highway.ALLLOCATIONS[buttonObj.color][buttonObj.loc]\n",
    "            self.highway.locations[buttonNewLoc][\"button\"].append(buttonObj)\n",
    "        \n",
    "        "
   ]
  },
  {
   "cell_type": "markdown",
   "metadata": {},
   "source": [
    "redHome=home(colorDictReverse[\"red\"])\n",
    "blueHome=home(colorDictReverse[\"blue\"])\n",
    "yellowHome=home(colorDictReverse[\"yellow\"])\n",
    "greenHome=home(colorDictReverse[\"green\"])"
   ]
  },
  {
   "cell_type": "markdown",
   "metadata": {},
   "source": [
    "allHomes=[redHome,blueHome,yellowHome,greenHome]"
   ]
  },
  {
   "cell_type": "code",
   "execution_count": 16,
   "metadata": {},
   "outputs": [
    {
     "name": "stdout",
     "output_type": "stream",
     "text": [
      "[2, 3, 0, 1]\n",
      "[0, 1, 2, 3]\n",
      "0\n",
      "1\n",
      "2\n",
      "3\n",
      "2\n"
     ]
    }
   ],
   "source": [
    "w=world()"
   ]
  },
  {
   "cell_type": "code",
   "execution_count": 56,
   "metadata": {},
   "outputs": [
    {
     "name": "stdout",
     "output_type": "stream",
     "text": [
      "3\n",
      "0\n"
     ]
    },
    {
     "data": {
      "text/plain": [
       "1"
      ]
     },
     "execution_count": 56,
     "metadata": {},
     "output_type": "execute_result"
    }
   ],
   "source": [
    "print(w.turn)\n",
    "w.turn= w.getNextPlayerColor()\n",
    "print(w.turn)\n",
    "\n",
    "w.getNextPlayerColor()"
   ]
  },
  {
   "cell_type": "code",
   "execution_count": 17,
   "metadata": {},
   "outputs": [
    {
     "data": {
      "text/plain": [
       "<__main__.button at 0x1ea6ff57fc8>"
      ]
     },
     "execution_count": 17,
     "metadata": {},
     "output_type": "execute_result"
    }
   ],
   "source": [
    "w.allHomess[0].buttonsDict[0]"
   ]
  },
  {
   "cell_type": "code",
   "execution_count": 9,
   "metadata": {},
   "outputs": [
    {
     "name": "stdout",
     "output_type": "stream",
     "text": [
      "[]\n",
      "[<__main__.button object at 0x000001EA6D73C988>]\n",
      "[]\n",
      "[<__main__.button object at 0x000001EA70302488>]\n",
      "[]\n",
      "[<__main__.button object at 0x000001EA70302988>]\n",
      "[]\n",
      "[<__main__.button object at 0x000001EA70302F88>]\n"
     ]
    }
   ],
   "source": [
    "w.highway.initButtonOnHighway(w.allHomess[0].buttonsDict[0])\n",
    "w.highway.initButtonOnHighway(w.allHomess[1].buttonsDict[0])\n",
    "w.highway.initButtonOnHighway(w.allHomess[2].buttonsDict[0])\n",
    "w.highway.initButtonOnHighway(w.allHomess[3].buttonsDict[0])"
   ]
  },
  {
   "cell_type": "code",
   "execution_count": 12,
   "metadata": {},
   "outputs": [
    {
     "data": {
      "text/plain": [
       "[]"
      ]
     },
     "execution_count": 12,
     "metadata": {},
     "output_type": "execute_result"
    }
   ],
   "source": [
    "w.highway.locations[1][1][\"button\"]"
   ]
  },
  {
   "cell_type": "code",
   "execution_count": 12,
   "metadata": {},
   "outputs": [
    {
     "data": {
      "text/plain": [
       "{0: {'colorsallowed': [],\n",
       "  'button': [<__main__.button at 0x1ea6d73c988>,\n",
       "   <__main__.button at 0x1ea6d73c988>],\n",
       "  'safe': True},\n",
       " 1: {'colorsallowed': [], 'button': [], 'safe': False},\n",
       " 2: {'colorsallowed': [], 'button': [], 'safe': False},\n",
       " 3: {'colorsallowed': [], 'button': [], 'safe': False},\n",
       " 4: {'colorsallowed': [], 'button': [], 'safe': False},\n",
       " 5: {'colorsallowed': [], 'button': [], 'safe': False},\n",
       " 6: {'colorsallowed': [], 'button': [], 'safe': False},\n",
       " 7: {'colorsallowed': [], 'button': [], 'safe': False},\n",
       " 8: {'colorsallowed': [], 'button': [], 'safe': True},\n",
       " 9: {'colorsallowed': [], 'button': [], 'safe': False},\n",
       " 10: {'colorsallowed': [], 'button': [], 'safe': False},\n",
       " 11: {'colorsallowed': [], 'button': [], 'safe': False},\n",
       " 12: {'colorsallowed': [], 'button': [], 'safe': False},\n",
       " 13: {'colorsallowed': [],\n",
       "  'button': [<__main__.button at 0x1ea70302488>],\n",
       "  'safe': True},\n",
       " 14: {'colorsallowed': [], 'button': [], 'safe': False},\n",
       " 15: {'colorsallowed': [], 'button': [], 'safe': False},\n",
       " 16: {'colorsallowed': [], 'button': [], 'safe': False},\n",
       " 17: {'colorsallowed': [], 'button': [], 'safe': False},\n",
       " 18: {'colorsallowed': [], 'button': [], 'safe': False},\n",
       " 19: {'colorsallowed': [], 'button': [], 'safe': False},\n",
       " 20: {'colorsallowed': [], 'button': [], 'safe': False},\n",
       " 21: {'colorsallowed': [], 'button': [], 'safe': True},\n",
       " 22: {'colorsallowed': [], 'button': [], 'safe': False},\n",
       " 23: {'colorsallowed': [], 'button': [], 'safe': False},\n",
       " 24: {'colorsallowed': [], 'button': [], 'safe': False},\n",
       " 25: {'colorsallowed': [], 'button': [], 'safe': False},\n",
       " 26: {'colorsallowed': [],\n",
       "  'button': [<__main__.button at 0x1ea70302988>],\n",
       "  'safe': True},\n",
       " 27: {'colorsallowed': [], 'button': [], 'safe': False},\n",
       " 28: {'colorsallowed': [], 'button': [], 'safe': False},\n",
       " 29: {'colorsallowed': [], 'button': [], 'safe': False},\n",
       " 30: {'colorsallowed': [], 'button': [], 'safe': False},\n",
       " 31: {'colorsallowed': [], 'button': [], 'safe': False},\n",
       " 32: {'colorsallowed': [], 'button': [], 'safe': False},\n",
       " 33: {'colorsallowed': [], 'button': [], 'safe': False},\n",
       " 34: {'colorsallowed': [], 'button': [], 'safe': True},\n",
       " 35: {'colorsallowed': [], 'button': [], 'safe': False},\n",
       " 36: {'colorsallowed': [], 'button': [], 'safe': False},\n",
       " 37: {'colorsallowed': [], 'button': [], 'safe': False},\n",
       " 38: {'colorsallowed': [], 'button': [], 'safe': False},\n",
       " 39: {'colorsallowed': [],\n",
       "  'button': [<__main__.button at 0x1ea70302f88>],\n",
       "  'safe': True},\n",
       " 40: {'colorsallowed': [], 'button': [], 'safe': False},\n",
       " 41: {'colorsallowed': [], 'button': [], 'safe': False},\n",
       " 42: {'colorsallowed': [], 'button': [], 'safe': False},\n",
       " 43: {'colorsallowed': [], 'button': [], 'safe': False},\n",
       " 44: {'colorsallowed': [], 'button': [], 'safe': False},\n",
       " 45: {'colorsallowed': [], 'button': [], 'safe': False},\n",
       " 46: {'colorsallowed': [], 'button': [], 'safe': False},\n",
       " 47: {'colorsallowed': [], 'button': [], 'safe': True},\n",
       " 48: {'colorsallowed': [], 'button': [], 'safe': False},\n",
       " 49: {'colorsallowed': [], 'button': [], 'safe': False},\n",
       " 50: {'colorsallowed': [], 'button': [], 'safe': False},\n",
       " 51: {'colorsallowed': [], 'button': [], 'safe': False},\n",
       " 52: {'colorsallowed': [0], 'button': [], 'safe': True},\n",
       " 53: {'colorsallowed': [0], 'button': [], 'safe': True},\n",
       " 54: {'colorsallowed': [0], 'button': [], 'safe': True},\n",
       " 55: {'colorsallowed': [0], 'button': [], 'safe': True},\n",
       " 56: {'colorsallowed': [0], 'button': [], 'safe': True},\n",
       " 57: {'colorsallowed': [0], 'button': [], 'safe': True},\n",
       " 58: {'colorsallowed': [1], 'button': [], 'safe': True},\n",
       " 59: {'colorsallowed': [1], 'button': [], 'safe': True},\n",
       " 60: {'colorsallowed': [1], 'button': [], 'safe': True},\n",
       " 61: {'colorsallowed': [1], 'button': [], 'safe': True},\n",
       " 62: {'colorsallowed': [1], 'button': [], 'safe': True},\n",
       " 63: {'colorsallowed': [1], 'button': [], 'safe': True},\n",
       " 64: {'colorsallowed': [2], 'button': [], 'safe': True},\n",
       " 65: {'colorsallowed': [2], 'button': [], 'safe': True},\n",
       " 66: {'colorsallowed': [2], 'button': [], 'safe': True},\n",
       " 67: {'colorsallowed': [2], 'button': [], 'safe': True},\n",
       " 68: {'colorsallowed': [2], 'button': [], 'safe': True},\n",
       " 69: {'colorsallowed': [2], 'button': [], 'safe': True},\n",
       " 70: {'colorsallowed': [3], 'button': [], 'safe': True},\n",
       " 71: {'colorsallowed': [3], 'button': [], 'safe': True},\n",
       " 72: {'colorsallowed': [3], 'button': [], 'safe': True},\n",
       " 73: {'colorsallowed': [3], 'button': [], 'safe': True},\n",
       " 74: {'colorsallowed': [3], 'button': [], 'safe': True},\n",
       " 75: {'colorsallowed': [3], 'button': [], 'safe': True}}"
      ]
     },
     "execution_count": 12,
     "metadata": {},
     "output_type": "execute_result"
    }
   ],
   "source": [
    "w.highway.locations"
   ]
  },
  {
   "cell_type": "code",
   "execution_count": 10,
   "metadata": {},
   "outputs": [
    {
     "name": "stdout",
     "output_type": "stream",
     "text": [
      "<__main__.button object at 0x000001EA6D73C988>\n",
      "{'colorsallowed': [], 'button': [<__main__.button object at 0x000001EA6D73C988>, <__main__.button object at 0x000001EA6D73C988>], 'safe': True}\n",
      "Its not a six! Still Stuck!\n"
     ]
    }
   ],
   "source": [
    "w.highway.moveButtonOnHighway(w.allHomess[0].buttonsDict[0])"
   ]
  },
  {
   "cell_type": "code",
   "execution_count": 4,
   "metadata": {},
   "outputs": [
    {
     "data": {
      "text/plain": [
       "{0: 0,\n",
       " 1: 1,\n",
       " 2: 2,\n",
       " 3: 3,\n",
       " 4: 4,\n",
       " 5: 5,\n",
       " 6: 6,\n",
       " 7: 7,\n",
       " 8: 8,\n",
       " 9: 9,\n",
       " 10: 10,\n",
       " 11: 11,\n",
       " 12: 12,\n",
       " 13: 13,\n",
       " 14: 14,\n",
       " 15: 15,\n",
       " 16: 16,\n",
       " 17: 17,\n",
       " 18: 18,\n",
       " 19: 19,\n",
       " 20: 20,\n",
       " 21: 21,\n",
       " 22: 22,\n",
       " 23: 23,\n",
       " 24: 24,\n",
       " 25: 25,\n",
       " 26: 26,\n",
       " 27: 27,\n",
       " 28: 28,\n",
       " 29: 29,\n",
       " 30: 30,\n",
       " 31: 31,\n",
       " 32: 32,\n",
       " 33: 33,\n",
       " 34: 34,\n",
       " 35: 35,\n",
       " 36: 36,\n",
       " 37: 37,\n",
       " 38: 38,\n",
       " 39: 39,\n",
       " 40: 40,\n",
       " 41: 41,\n",
       " 42: 42,\n",
       " 43: 43,\n",
       " 44: 44,\n",
       " 45: 45,\n",
       " 46: 46,\n",
       " 47: 47,\n",
       " 48: 48,\n",
       " 49: 49,\n",
       " 50: 50,\n",
       " 51: 52,\n",
       " 52: 53,\n",
       " 53: 54,\n",
       " 54: 55,\n",
       " 55: 56,\n",
       " 56: 57}"
      ]
     },
     "execution_count": 4,
     "metadata": {},
     "output_type": "execute_result"
    }
   ],
   "source": [
    "#{i:highway.REDLOCATIONS[i]    for i in range(0,len(highway.REDLOCATIONS))}\n",
    "highway.REDLOCATIONS"
   ]
  },
  {
   "cell_type": "code",
   "execution_count": 35,
   "metadata": {},
   "outputs": [
    {
     "name": "stdout",
     "output_type": "stream",
     "text": [
      "Its a six!\n"
     ]
    },
    {
     "ename": "AttributeError",
     "evalue": "'home' object has no attribute 'remove'",
     "output_type": "error",
     "traceback": [
      "\u001b[1;31m---------------------------------------------------------------------------\u001b[0m",
      "\u001b[1;31mAttributeError\u001b[0m                            Traceback (most recent call last)",
      "\u001b[1;32m<ipython-input-35-2b00514efd88>\u001b[0m in \u001b[0;36m<module>\u001b[1;34m\u001b[0m\n\u001b[1;32m----> 1\u001b[1;33m \u001b[0mw\u001b[0m\u001b[1;33m.\u001b[0m\u001b[0mmoveButton\u001b[0m\u001b[1;33m(\u001b[0m\u001b[0mw\u001b[0m\u001b[1;33m.\u001b[0m\u001b[0mallHomess\u001b[0m\u001b[1;33m[\u001b[0m\u001b[1;36m0\u001b[0m\u001b[1;33m]\u001b[0m\u001b[1;33m.\u001b[0m\u001b[0mbuttonsDict\u001b[0m\u001b[1;33m[\u001b[0m\u001b[1;36m0\u001b[0m\u001b[1;33m]\u001b[0m\u001b[1;33m)\u001b[0m\u001b[1;33m\u001b[0m\u001b[1;33m\u001b[0m\u001b[0m\n\u001b[0m",
      "\u001b[1;32m<ipython-input-15-3633e2d91d01>\u001b[0m in \u001b[0;36mmoveButton\u001b[1;34m(self, buttonObj)\u001b[0m\n\u001b[0;32m    251\u001b[0m             \u001b[1;31m#if button just got a 6 and it is at home, remove it from home and put it on the highway\u001b[0m\u001b[1;33m\u001b[0m\u001b[1;33m\u001b[0m\u001b[1;33m\u001b[0m\u001b[0m\n\u001b[0;32m    252\u001b[0m             \u001b[1;32mif\u001b[0m\u001b[1;33m(\u001b[0m\u001b[0mbuttonOldLoc\u001b[0m\u001b[1;33m==\u001b[0m\u001b[1;33m-\u001b[0m\u001b[1;36m1\u001b[0m\u001b[1;33m)\u001b[0m\u001b[1;33m:\u001b[0m\u001b[1;33m\u001b[0m\u001b[1;33m\u001b[0m\u001b[0m\n\u001b[1;32m--> 253\u001b[1;33m                 \u001b[0mself\u001b[0m\u001b[1;33m.\u001b[0m\u001b[0mallHomess\u001b[0m\u001b[1;33m[\u001b[0m\u001b[0mbuttonObj\u001b[0m\u001b[1;33m.\u001b[0m\u001b[0mcolor\u001b[0m\u001b[1;33m]\u001b[0m\u001b[1;33m.\u001b[0m\u001b[0mremove\u001b[0m\u001b[1;33m(\u001b[0m\u001b[0mbuttonObj\u001b[0m\u001b[1;33m)\u001b[0m\u001b[1;33m\u001b[0m\u001b[1;33m\u001b[0m\u001b[0m\n\u001b[0m\u001b[0;32m    254\u001b[0m             \u001b[0mbuttonNewLoc\u001b[0m\u001b[1;33m=\u001b[0m\u001b[0mself\u001b[0m\u001b[1;33m.\u001b[0m\u001b[0mhighway\u001b[0m\u001b[1;33m.\u001b[0m\u001b[0mALLLOCATIONS\u001b[0m\u001b[1;33m[\u001b[0m\u001b[0mbuttonObj\u001b[0m\u001b[1;33m.\u001b[0m\u001b[0mcolor\u001b[0m\u001b[1;33m]\u001b[0m\u001b[1;33m[\u001b[0m\u001b[0mbuttonObj\u001b[0m\u001b[1;33m.\u001b[0m\u001b[0mloc\u001b[0m\u001b[1;33m]\u001b[0m\u001b[1;33m\u001b[0m\u001b[1;33m\u001b[0m\u001b[0m\n\u001b[0;32m    255\u001b[0m             \u001b[0mself\u001b[0m\u001b[1;33m.\u001b[0m\u001b[0mhighway\u001b[0m\u001b[1;33m.\u001b[0m\u001b[0mlocations\u001b[0m\u001b[1;33m[\u001b[0m\u001b[0mbuttonNewLoc\u001b[0m\u001b[1;33m]\u001b[0m\u001b[1;33m[\u001b[0m\u001b[1;34m\"button\"\u001b[0m\u001b[1;33m]\u001b[0m\u001b[1;33m.\u001b[0m\u001b[0mappend\u001b[0m\u001b[1;33m(\u001b[0m\u001b[0mbuttonObj\u001b[0m\u001b[1;33m)\u001b[0m\u001b[1;33m\u001b[0m\u001b[1;33m\u001b[0m\u001b[0m\n",
      "\u001b[1;31mAttributeError\u001b[0m: 'home' object has no attribute 'remove'"
     ]
    }
   ],
   "source": [
    "w.moveButton(w.allHomess[0].buttonsDict[0])"
   ]
  }
 ],
 "metadata": {
  "kernelspec": {
   "display_name": "Python 3",
   "language": "python",
   "name": "python3"
  },
  "language_info": {
   "codemirror_mode": {
    "name": "ipython",
    "version": 3
   },
   "file_extension": ".py",
   "mimetype": "text/x-python",
   "name": "python",
   "nbconvert_exporter": "python",
   "pygments_lexer": "ipython3",
   "version": "3.7.7"
  }
 },
 "nbformat": 4,
 "nbformat_minor": 4
}
